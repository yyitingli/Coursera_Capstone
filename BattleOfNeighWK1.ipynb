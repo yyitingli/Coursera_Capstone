{
 "cells": [
  {
   "cell_type": "markdown",
   "metadata": {},
   "source": [
    "# Business problem\n",
    "### Background:\n",
    "As the COVID-19 pandemic attack the U.S. economy, it provides the best time to put house on the market due to low inventory and high demand. The low interest rate has attract investors heating up the housing market. However, it is difficult for unfamiliar investor to collect housing information.\n",
    "\n",
    "### Business Problem:\n",
    "In this senerio, a newly-formed real estate company, ABC inc., is searching for investors who are inexperienced with the real estate market in Bronx. The company's goal is to collect information to attract new investors and assist new investor to make a profitable purchase.\n",
    "\n",
    "The Conmpany's plan is to use clustering method to classfy neighboods in Bronx and recommending suitable price and venues for their new investors. \n",
    "\n",
    "### Data Selection\n",
    "The data of housing price in Bronx can be access through the open source from New York City Government (link: https://www1.nyc.gov/site/finance/taxes/property-rolling-sales-data.page). It included all the rolling sales for past 12 months and it excluded the utility properties.\n",
    "\n",
    "In order to analyze and designate location between different vecnues, we will evaluate amenities and essential facilities in each region using the data provided by FourSquare API interface. Then we will use the venue data  to generate a report with visualization. The venue data  from the API includes a neighborhood's name, neighborhood's latitude, lneighborhood's ongtitude, venue, venue's name, venue's latitude, and venue's logititude.\n",
    "### Methodology:\n",
    "In this case, I'll use data cleaning methods from IBM data science class and KNN and KMeansclustering for modeling.\n",
    "The specific process is showned below"
   ]
  },
  {
   "cell_type": "markdown",
   "metadata": {},
   "source": []
  },
  {
   "cell_type": "code",
   "execution_count": null,
   "metadata": {},
   "outputs": [],
   "source": []
  }
 ],
 "metadata": {
  "kernelspec": {
   "display_name": "Python 3",
   "language": "python",
   "name": "python3"
  },
  "language_info": {
   "codemirror_mode": {
    "name": "ipython",
    "version": 3
   },
   "file_extension": ".py",
   "mimetype": "text/x-python",
   "name": "python",
   "nbconvert_exporter": "python",
   "pygments_lexer": "ipython3",
   "version": "3.7.6"
  }
 },
 "nbformat": 4,
 "nbformat_minor": 4
}
